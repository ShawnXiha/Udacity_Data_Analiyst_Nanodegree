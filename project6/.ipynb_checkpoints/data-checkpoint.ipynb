{
 "cells": [
  {
   "cell_type": "markdown",
   "metadata": {
    "collapsed": true
   },
   "source": [
    "# store data into json \n",
    "\n",
    "for example\n",
    "\n",
    "{label : weightlv1short , freq:{bad:13,ordinary:1,good:0}}"
   ]
  },
  {
   "cell_type": "code",
   "execution_count": 1,
   "metadata": {
    "collapsed": true
   },
   "outputs": [],
   "source": [
    "import pandas as pd\n",
    "bs = pd.read_csv('baseball_data.csv')"
   ]
  },
  {
   "cell_type": "code",
   "execution_count": 2,
   "metadata": {
    "collapsed": false
   },
   "outputs": [
    {
     "data": {
      "text/html": [
       "<div>\n",
       "<table border=\"1\" class=\"dataframe\">\n",
       "  <thead>\n",
       "    <tr style=\"text-align: right;\">\n",
       "      <th></th>\n",
       "      <th>height</th>\n",
       "      <th>weight</th>\n",
       "      <th>avg</th>\n",
       "      <th>HR</th>\n",
       "    </tr>\n",
       "  </thead>\n",
       "  <tbody>\n",
       "    <tr>\n",
       "      <th>count</th>\n",
       "      <td>1157.000000</td>\n",
       "      <td>1157.000000</td>\n",
       "      <td>1157.000000</td>\n",
       "      <td>1157.000000</td>\n",
       "    </tr>\n",
       "    <tr>\n",
       "      <th>mean</th>\n",
       "      <td>72.756266</td>\n",
       "      <td>184.513397</td>\n",
       "      <td>0.186793</td>\n",
       "      <td>45.359551</td>\n",
       "    </tr>\n",
       "    <tr>\n",
       "      <th>std</th>\n",
       "      <td>2.142272</td>\n",
       "      <td>15.445995</td>\n",
       "      <td>0.106175</td>\n",
       "      <td>74.065110</td>\n",
       "    </tr>\n",
       "    <tr>\n",
       "      <th>min</th>\n",
       "      <td>65.000000</td>\n",
       "      <td>140.000000</td>\n",
       "      <td>0.000000</td>\n",
       "      <td>0.000000</td>\n",
       "    </tr>\n",
       "    <tr>\n",
       "      <th>25%</th>\n",
       "      <td>71.000000</td>\n",
       "      <td>175.000000</td>\n",
       "      <td>0.138000</td>\n",
       "      <td>1.000000</td>\n",
       "    </tr>\n",
       "    <tr>\n",
       "      <th>50%</th>\n",
       "      <td>73.000000</td>\n",
       "      <td>185.000000</td>\n",
       "      <td>0.238000</td>\n",
       "      <td>15.000000</td>\n",
       "    </tr>\n",
       "    <tr>\n",
       "      <th>75%</th>\n",
       "      <td>74.000000</td>\n",
       "      <td>195.000000</td>\n",
       "      <td>0.258000</td>\n",
       "      <td>55.000000</td>\n",
       "    </tr>\n",
       "    <tr>\n",
       "      <th>max</th>\n",
       "      <td>80.000000</td>\n",
       "      <td>245.000000</td>\n",
       "      <td>0.328000</td>\n",
       "      <td>563.000000</td>\n",
       "    </tr>\n",
       "  </tbody>\n",
       "</table>\n",
       "</div>"
      ],
      "text/plain": [
       "            height       weight          avg           HR\n",
       "count  1157.000000  1157.000000  1157.000000  1157.000000\n",
       "mean     72.756266   184.513397     0.186793    45.359551\n",
       "std       2.142272    15.445995     0.106175    74.065110\n",
       "min      65.000000   140.000000     0.000000     0.000000\n",
       "25%      71.000000   175.000000     0.138000     1.000000\n",
       "50%      73.000000   185.000000     0.238000    15.000000\n",
       "75%      74.000000   195.000000     0.258000    55.000000\n",
       "max      80.000000   245.000000     0.328000   563.000000"
      ]
     },
     "execution_count": 2,
     "metadata": {},
     "output_type": "execute_result"
    }
   ],
   "source": [
    "bs.describe()"
   ]
  },
  {
   "cell_type": "code",
   "execution_count": 3,
   "metadata": {
    "collapsed": false
   },
   "outputs": [],
   "source": [
    "labels1 = ['light','2','3','4','5']\n",
    "bs['weight1'] = pd.cut(bs['weight'],5,labels = labels1)"
   ]
  },
  {
   "cell_type": "code",
   "execution_count": 4,
   "metadata": {
    "collapsed": false
   },
   "outputs": [
    {
     "data": {
      "text/plain": [
       "0       2\n",
       "1       2\n",
       "2       2\n",
       "3       2\n",
       "4       1\n",
       "5       4\n",
       "6       3\n",
       "7       3\n",
       "8       2\n",
       "9       3\n",
       "10      3\n",
       "11      3\n",
       "12      2\n",
       "13      3\n",
       "14      2\n",
       "15      2\n",
       "16      3\n",
       "17      3\n",
       "18      3\n",
       "19      3\n",
       "20      3\n",
       "21      3\n",
       "22      4\n",
       "23      2\n",
       "24      3\n",
       "25      3\n",
       "26      2\n",
       "27      2\n",
       "28      4\n",
       "29      2\n",
       "       ..\n",
       "1127    3\n",
       "1128    3\n",
       "1129    3\n",
       "1130    2\n",
       "1131    3\n",
       "1132    3\n",
       "1133    3\n",
       "1134    2\n",
       "1135    4\n",
       "1136    2\n",
       "1137    2\n",
       "1138    2\n",
       "1139    2\n",
       "1140    2\n",
       "1141    1\n",
       "1142    5\n",
       "1143    4\n",
       "1144    3\n",
       "1145    4\n",
       "1146    3\n",
       "1147    4\n",
       "1148    4\n",
       "1149    2\n",
       "1150    2\n",
       "1151    2\n",
       "1152    3\n",
       "1153    2\n",
       "1154    2\n",
       "1155    4\n",
       "1156    2\n",
       "Name: weight1, dtype: category\n",
       "Categories (5, object): [1 < 2 < 3 < 4 < 5]"
      ]
     },
     "execution_count": 4,
     "metadata": {},
     "output_type": "execute_result"
    }
   ],
   "source": [
    "bs['weight1']"
   ]
  },
  {
   "cell_type": "code",
   "execution_count": 5,
   "metadata": {
    "collapsed": false
   },
   "outputs": [],
   "source": [
    "l3 = ['low','mid','high']\n",
    "bs['avg1'] = pd.cut(bs['avg'],3,labels = l3)"
   ]
  },
  {
   "cell_type": "code",
   "execution_count": 6,
   "metadata": {
    "collapsed": false
   },
   "outputs": [
    {
     "data": {
      "text/plain": [
       "0        low\n",
       "1        mid\n",
       "2       high\n",
       "3       high\n",
       "4       high\n",
       "5        mid\n",
       "6        mid\n",
       "7       high\n",
       "8       high\n",
       "9        low\n",
       "10       low\n",
       "11       low\n",
       "12      high\n",
       "13      high\n",
       "14       low\n",
       "15       mid\n",
       "16      high\n",
       "17      high\n",
       "18      high\n",
       "19      high\n",
       "20       low\n",
       "21       low\n",
       "22       low\n",
       "23      high\n",
       "24      high\n",
       "25      high\n",
       "26      high\n",
       "27      high\n",
       "28      high\n",
       "29      high\n",
       "        ... \n",
       "1127     low\n",
       "1128    high\n",
       "1129     mid\n",
       "1130    high\n",
       "1131     low\n",
       "1132     mid\n",
       "1133    high\n",
       "1134     mid\n",
       "1135     low\n",
       "1136    high\n",
       "1137     low\n",
       "1138    high\n",
       "1139    high\n",
       "1140    high\n",
       "1141     mid\n",
       "1142     low\n",
       "1143     low\n",
       "1144    high\n",
       "1145     low\n",
       "1146    high\n",
       "1147     low\n",
       "1148     mid\n",
       "1149    high\n",
       "1150     low\n",
       "1151    high\n",
       "1152     low\n",
       "1153    high\n",
       "1154    high\n",
       "1155     low\n",
       "1156     low\n",
       "Name: avg1, dtype: category\n",
       "Categories (3, object): [low < mid < high]"
      ]
     },
     "execution_count": 6,
     "metadata": {},
     "output_type": "execute_result"
    }
   ],
   "source": [
    "bs['avg1']"
   ]
  },
  {
   "cell_type": "code",
   "execution_count": 7,
   "metadata": {
    "collapsed": false
   },
   "outputs": [],
   "source": [
    "label2 = ['S','M','H']\n",
    "bs['height1'] = pd.cut(bs['height'],3,labels = label2)"
   ]
  },
  {
   "cell_type": "code",
   "execution_count": 8,
   "metadata": {
    "collapsed": false
   },
   "outputs": [
    {
     "data": {
      "text/plain": [
       "0       M\n",
       "1       M\n",
       "2       M\n",
       "3       S\n",
       "4       S\n",
       "5       M\n",
       "6       M\n",
       "7       M\n",
       "8       M\n",
       "9       M\n",
       "10      M\n",
       "11      M\n",
       "12      S\n",
       "13      M\n",
       "14      M\n",
       "15      M\n",
       "16      M\n",
       "17      S\n",
       "18      M\n",
       "19      M\n",
       "20      M\n",
       "21      M\n",
       "22      H\n",
       "23      M\n",
       "24      M\n",
       "25      M\n",
       "26      M\n",
       "27      M\n",
       "28      M\n",
       "29      M\n",
       "       ..\n",
       "1127    M\n",
       "1128    S\n",
       "1129    H\n",
       "1130    M\n",
       "1131    M\n",
       "1132    M\n",
       "1133    M\n",
       "1134    M\n",
       "1135    H\n",
       "1136    S\n",
       "1137    M\n",
       "1138    M\n",
       "1139    M\n",
       "1140    S\n",
       "1141    S\n",
       "1142    H\n",
       "1143    H\n",
       "1144    S\n",
       "1145    H\n",
       "1146    M\n",
       "1147    H\n",
       "1148    M\n",
       "1149    S\n",
       "1150    M\n",
       "1151    M\n",
       "1152    M\n",
       "1153    M\n",
       "1154    S\n",
       "1155    M\n",
       "1156    S\n",
       "Name: height1, dtype: category\n",
       "Categories (3, object): [S < M < H]"
      ]
     },
     "execution_count": 8,
     "metadata": {},
     "output_type": "execute_result"
    }
   ],
   "source": [
    "bs['height1']"
   ]
  },
  {
   "cell_type": "code",
   "execution_count": 43,
   "metadata": {
    "collapsed": false
   },
   "outputs": [],
   "source": [
    "data =  bs.groupby(['weight1','height1','avg1'])['name'].count()\n"
   ]
  },
  {
   "cell_type": "code",
   "execution_count": 44,
   "metadata": {
    "collapsed": false
   },
   "outputs": [],
   "source": [
    "data.to_csv('data.csv')"
   ]
  },
  {
   "cell_type": "code",
   "execution_count": 51,
   "metadata": {
    "collapsed": false
   },
   "outputs": [],
   "source": [
    "data =pd.read_csv('data.csv')\n",
    "data['weight1'] = data['weight1'].astype(str)"
   ]
  },
  {
   "cell_type": "code",
   "execution_count": 54,
   "metadata": {
    "collapsed": false
   },
   "outputs": [],
   "source": [
    "data['Label']=data['weight1']+data['height1']"
   ]
  },
  {
   "cell_type": "code",
   "execution_count": 56,
   "metadata": {
    "collapsed": false
   },
   "outputs": [],
   "source": [
    "data.to_csv('data.csv')"
   ]
  },
  {
   "cell_type": "code",
   "execution_count": null,
   "metadata": {
    "collapsed": true
   },
   "outputs": [],
   "source": []
  }
 ],
 "metadata": {
  "anaconda-cloud": {},
  "kernelspec": {
   "display_name": "Python [Root]",
   "language": "python",
   "name": "Python [Root]"
  },
  "language_info": {
   "codemirror_mode": {
    "name": "ipython",
    "version": 3
   },
   "file_extension": ".py",
   "mimetype": "text/x-python",
   "name": "python",
   "nbconvert_exporter": "python",
   "pygments_lexer": "ipython3",
   "version": "3.5.2"
  }
 },
 "nbformat": 4,
 "nbformat_minor": 0
}
