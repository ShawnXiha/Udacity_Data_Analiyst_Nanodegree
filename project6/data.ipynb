{
 "cells": [
  {
   "cell_type": "markdown",
   "metadata": {
    "collapsed": true
   },
   "source": [
    "# store data into json \n",
    "\n",
    "for example\n",
    "\n",
    "{label : weightlv1short , freq:{bad:13,ordinary:1,good:0}}"
   ]
  },
  {
   "cell_type": "code",
   "execution_count": 1,
   "metadata": {
    "collapsed": true
   },
   "outputs": [],
   "source": [
    "import pandas as pd\n",
    "bs = pd.read_csv('baseball_data.csv')"
   ]
  },
  {
   "cell_type": "code",
   "execution_count": 2,
   "metadata": {
    "collapsed": false
   },
   "outputs": [
    {
     "data": {
      "text/html": [
       "<div>\n",
       "<table border=\"1\" class=\"dataframe\">\n",
       "  <thead>\n",
       "    <tr style=\"text-align: right;\">\n",
       "      <th></th>\n",
       "      <th>height</th>\n",
       "      <th>weight</th>\n",
       "      <th>avg</th>\n",
       "      <th>HR</th>\n",
       "    </tr>\n",
       "  </thead>\n",
       "  <tbody>\n",
       "    <tr>\n",
       "      <th>count</th>\n",
       "      <td>1157.000000</td>\n",
       "      <td>1157.000000</td>\n",
       "      <td>1157.000000</td>\n",
       "      <td>1157.000000</td>\n",
       "    </tr>\n",
       "    <tr>\n",
       "      <th>mean</th>\n",
       "      <td>72.756266</td>\n",
       "      <td>184.513397</td>\n",
       "      <td>0.186793</td>\n",
       "      <td>45.359551</td>\n",
       "    </tr>\n",
       "    <tr>\n",
       "      <th>std</th>\n",
       "      <td>2.142272</td>\n",
       "      <td>15.445995</td>\n",
       "      <td>0.106175</td>\n",
       "      <td>74.065110</td>\n",
       "    </tr>\n",
       "    <tr>\n",
       "      <th>min</th>\n",
       "      <td>65.000000</td>\n",
       "      <td>140.000000</td>\n",
       "      <td>0.000000</td>\n",
       "      <td>0.000000</td>\n",
       "    </tr>\n",
       "    <tr>\n",
       "      <th>25%</th>\n",
       "      <td>71.000000</td>\n",
       "      <td>175.000000</td>\n",
       "      <td>0.138000</td>\n",
       "      <td>1.000000</td>\n",
       "    </tr>\n",
       "    <tr>\n",
       "      <th>50%</th>\n",
       "      <td>73.000000</td>\n",
       "      <td>185.000000</td>\n",
       "      <td>0.238000</td>\n",
       "      <td>15.000000</td>\n",
       "    </tr>\n",
       "    <tr>\n",
       "      <th>75%</th>\n",
       "      <td>74.000000</td>\n",
       "      <td>195.000000</td>\n",
       "      <td>0.258000</td>\n",
       "      <td>55.000000</td>\n",
       "    </tr>\n",
       "    <tr>\n",
       "      <th>max</th>\n",
       "      <td>80.000000</td>\n",
       "      <td>245.000000</td>\n",
       "      <td>0.328000</td>\n",
       "      <td>563.000000</td>\n",
       "    </tr>\n",
       "  </tbody>\n",
       "</table>\n",
       "</div>"
      ],
      "text/plain": [
       "            height       weight          avg           HR\n",
       "count  1157.000000  1157.000000  1157.000000  1157.000000\n",
       "mean     72.756266   184.513397     0.186793    45.359551\n",
       "std       2.142272    15.445995     0.106175    74.065110\n",
       "min      65.000000   140.000000     0.000000     0.000000\n",
       "25%      71.000000   175.000000     0.138000     1.000000\n",
       "50%      73.000000   185.000000     0.238000    15.000000\n",
       "75%      74.000000   195.000000     0.258000    55.000000\n",
       "max      80.000000   245.000000     0.328000   563.000000"
      ]
     },
     "execution_count": 2,
     "metadata": {},
     "output_type": "execute_result"
    }
   ],
   "source": [
    "bs.describe()"
   ]
  },
  {
   "cell_type": "code",
   "execution_count": 3,
   "metadata": {
    "collapsed": false
   },
   "outputs": [],
   "source": [
    "labels1 = ['light','not_too_light','medium','not_too_heavy','heavy']\n",
    "bs['weight1'] = pd.cut(bs['weight'],5,labels = labels1)"
   ]
  },
  {
   "cell_type": "code",
   "execution_count": 4,
   "metadata": {
    "collapsed": false
   },
   "outputs": [
    {
     "data": {
      "text/plain": [
       "0       not_too_light\n",
       "1       not_too_light\n",
       "2       not_too_light\n",
       "3       not_too_light\n",
       "4               light\n",
       "5       not_too_heavy\n",
       "6              medium\n",
       "7              medium\n",
       "8       not_too_light\n",
       "9              medium\n",
       "10             medium\n",
       "11             medium\n",
       "12      not_too_light\n",
       "13             medium\n",
       "14      not_too_light\n",
       "15      not_too_light\n",
       "16             medium\n",
       "17             medium\n",
       "18             medium\n",
       "19             medium\n",
       "20             medium\n",
       "21             medium\n",
       "22      not_too_heavy\n",
       "23      not_too_light\n",
       "24             medium\n",
       "25             medium\n",
       "26      not_too_light\n",
       "27      not_too_light\n",
       "28      not_too_heavy\n",
       "29      not_too_light\n",
       "            ...      \n",
       "1127           medium\n",
       "1128           medium\n",
       "1129           medium\n",
       "1130    not_too_light\n",
       "1131           medium\n",
       "1132           medium\n",
       "1133           medium\n",
       "1134    not_too_light\n",
       "1135    not_too_heavy\n",
       "1136    not_too_light\n",
       "1137    not_too_light\n",
       "1138    not_too_light\n",
       "1139    not_too_light\n",
       "1140    not_too_light\n",
       "1141            light\n",
       "1142            heavy\n",
       "1143    not_too_heavy\n",
       "1144           medium\n",
       "1145    not_too_heavy\n",
       "1146           medium\n",
       "1147    not_too_heavy\n",
       "1148    not_too_heavy\n",
       "1149    not_too_light\n",
       "1150    not_too_light\n",
       "1151    not_too_light\n",
       "1152           medium\n",
       "1153    not_too_light\n",
       "1154    not_too_light\n",
       "1155    not_too_heavy\n",
       "1156    not_too_light\n",
       "Name: weight1, dtype: category\n",
       "Categories (5, object): [light < not_too_light < medium < not_too_heavy < heavy]"
      ]
     },
     "execution_count": 4,
     "metadata": {},
     "output_type": "execute_result"
    }
   ],
   "source": [
    "bs['weight1']"
   ]
  },
  {
   "cell_type": "code",
   "execution_count": 5,
   "metadata": {
    "collapsed": false
   },
   "outputs": [],
   "source": [
    "l3 = ['low','mid','high']\n",
    "bs['avg1'] = pd.cut(bs['avg'],3,labels = l3)"
   ]
  },
  {
   "cell_type": "code",
   "execution_count": 6,
   "metadata": {
    "collapsed": false
   },
   "outputs": [
    {
     "data": {
      "text/plain": [
       "0        low\n",
       "1        mid\n",
       "2       high\n",
       "3       high\n",
       "4       high\n",
       "5        mid\n",
       "6        mid\n",
       "7       high\n",
       "8       high\n",
       "9        low\n",
       "10       low\n",
       "11       low\n",
       "12      high\n",
       "13      high\n",
       "14       low\n",
       "15       mid\n",
       "16      high\n",
       "17      high\n",
       "18      high\n",
       "19      high\n",
       "20       low\n",
       "21       low\n",
       "22       low\n",
       "23      high\n",
       "24      high\n",
       "25      high\n",
       "26      high\n",
       "27      high\n",
       "28      high\n",
       "29      high\n",
       "        ... \n",
       "1127     low\n",
       "1128    high\n",
       "1129     mid\n",
       "1130    high\n",
       "1131     low\n",
       "1132     mid\n",
       "1133    high\n",
       "1134     mid\n",
       "1135     low\n",
       "1136    high\n",
       "1137     low\n",
       "1138    high\n",
       "1139    high\n",
       "1140    high\n",
       "1141     mid\n",
       "1142     low\n",
       "1143     low\n",
       "1144    high\n",
       "1145     low\n",
       "1146    high\n",
       "1147     low\n",
       "1148     mid\n",
       "1149    high\n",
       "1150     low\n",
       "1151    high\n",
       "1152     low\n",
       "1153    high\n",
       "1154    high\n",
       "1155     low\n",
       "1156     low\n",
       "Name: avg1, dtype: category\n",
       "Categories (3, object): [low < mid < high]"
      ]
     },
     "execution_count": 6,
     "metadata": {},
     "output_type": "execute_result"
    }
   ],
   "source": [
    "bs['avg1']"
   ]
  },
  {
   "cell_type": "code",
   "execution_count": 7,
   "metadata": {
    "collapsed": false
   },
   "outputs": [],
   "source": [
    "label2 = ['Short','Medium','Tall']\n",
    "bs['height1'] = pd.cut(bs['height'],3,labels = label2)"
   ]
  },
  {
   "cell_type": "code",
   "execution_count": 8,
   "metadata": {
    "collapsed": false
   },
   "outputs": [
    {
     "data": {
      "text/plain": [
       "0       Medium\n",
       "1       Medium\n",
       "2       Medium\n",
       "3        Short\n",
       "4        Short\n",
       "5       Medium\n",
       "6       Medium\n",
       "7       Medium\n",
       "8       Medium\n",
       "9       Medium\n",
       "10      Medium\n",
       "11      Medium\n",
       "12       Short\n",
       "13      Medium\n",
       "14      Medium\n",
       "15      Medium\n",
       "16      Medium\n",
       "17       Short\n",
       "18      Medium\n",
       "19      Medium\n",
       "20      Medium\n",
       "21      Medium\n",
       "22        Tall\n",
       "23      Medium\n",
       "24      Medium\n",
       "25      Medium\n",
       "26      Medium\n",
       "27      Medium\n",
       "28      Medium\n",
       "29      Medium\n",
       "         ...  \n",
       "1127    Medium\n",
       "1128     Short\n",
       "1129      Tall\n",
       "1130    Medium\n",
       "1131    Medium\n",
       "1132    Medium\n",
       "1133    Medium\n",
       "1134    Medium\n",
       "1135      Tall\n",
       "1136     Short\n",
       "1137    Medium\n",
       "1138    Medium\n",
       "1139    Medium\n",
       "1140     Short\n",
       "1141     Short\n",
       "1142      Tall\n",
       "1143      Tall\n",
       "1144     Short\n",
       "1145      Tall\n",
       "1146    Medium\n",
       "1147      Tall\n",
       "1148    Medium\n",
       "1149     Short\n",
       "1150    Medium\n",
       "1151    Medium\n",
       "1152    Medium\n",
       "1153    Medium\n",
       "1154     Short\n",
       "1155    Medium\n",
       "1156     Short\n",
       "Name: height1, dtype: category\n",
       "Categories (3, object): [Short < Medium < Tall]"
      ]
     },
     "execution_count": 8,
     "metadata": {},
     "output_type": "execute_result"
    }
   ],
   "source": [
    "bs['height1']"
   ]
  },
  {
   "cell_type": "code",
   "execution_count": 9,
   "metadata": {
    "collapsed": true
   },
   "outputs": [],
   "source": [
    "## drop avg are 0\n",
    "\n",
    "bs = bs[bs.avg!=0]"
   ]
  },
  {
   "cell_type": "code",
   "execution_count": 10,
   "metadata": {
    "collapsed": false
   },
   "outputs": [],
   "source": [
    "data =  bs.groupby(['weight1','height1','avg1'])['name'].count().fillna(0)\n"
   ]
  },
  {
   "cell_type": "code",
   "execution_count": 12,
   "metadata": {
    "collapsed": false
   },
   "outputs": [],
   "source": [
    "data.to_csv('data.csv')"
   ]
  },
  {
   "cell_type": "code",
   "execution_count": 17,
   "metadata": {
    "collapsed": false
   },
   "outputs": [],
   "source": [
    "data =pd.read_csv('data.csv')"
   ]
  },
  {
   "cell_type": "code",
   "execution_count": 18,
   "metadata": {
    "collapsed": false
   },
   "outputs": [],
   "source": [
    "data['Label']=data['weight1']+'-'+data['height1']"
   ]
  },
  {
   "cell_type": "code",
   "execution_count": 19,
   "metadata": {
    "collapsed": false
   },
   "outputs": [],
   "source": [
    "data.to_csv('data.csv')"
   ]
  },
  {
   "cell_type": "code",
   "execution_count": 20,
   "metadata": {
    "collapsed": false
   },
   "outputs": [
    {
     "data": {
      "text/html": [
       "<div>\n",
       "<table border=\"1\" class=\"dataframe\">\n",
       "  <thead>\n",
       "    <tr style=\"text-align: right;\">\n",
       "      <th></th>\n",
       "      <th>weight1</th>\n",
       "      <th>height1</th>\n",
       "      <th>avg</th>\n",
       "      <th>count</th>\n",
       "      <th>Label</th>\n",
       "    </tr>\n",
       "  </thead>\n",
       "  <tbody>\n",
       "    <tr>\n",
       "      <th>0</th>\n",
       "      <td>light</td>\n",
       "      <td>Short</td>\n",
       "      <td>mid</td>\n",
       "      <td>2</td>\n",
       "      <td>light-Short</td>\n",
       "    </tr>\n",
       "    <tr>\n",
       "      <th>1</th>\n",
       "      <td>light</td>\n",
       "      <td>Short</td>\n",
       "      <td>high</td>\n",
       "      <td>45</td>\n",
       "      <td>light-Short</td>\n",
       "    </tr>\n",
       "    <tr>\n",
       "      <th>2</th>\n",
       "      <td>light</td>\n",
       "      <td>Medium</td>\n",
       "      <td>mid</td>\n",
       "      <td>4</td>\n",
       "      <td>light-Medium</td>\n",
       "    </tr>\n",
       "    <tr>\n",
       "      <th>3</th>\n",
       "      <td>light</td>\n",
       "      <td>Medium</td>\n",
       "      <td>high</td>\n",
       "      <td>26</td>\n",
       "      <td>light-Medium</td>\n",
       "    </tr>\n",
       "    <tr>\n",
       "      <th>4</th>\n",
       "      <td>not_too_light</td>\n",
       "      <td>Short</td>\n",
       "      <td>mid</td>\n",
       "      <td>10</td>\n",
       "      <td>not_too_light-Short</td>\n",
       "    </tr>\n",
       "    <tr>\n",
       "      <th>5</th>\n",
       "      <td>not_too_light</td>\n",
       "      <td>Short</td>\n",
       "      <td>high</td>\n",
       "      <td>83</td>\n",
       "      <td>not_too_light-Short</td>\n",
       "    </tr>\n",
       "    <tr>\n",
       "      <th>6</th>\n",
       "      <td>not_too_light</td>\n",
       "      <td>Medium</td>\n",
       "      <td>mid</td>\n",
       "      <td>40</td>\n",
       "      <td>not_too_light-Medium</td>\n",
       "    </tr>\n",
       "    <tr>\n",
       "      <th>7</th>\n",
       "      <td>not_too_light</td>\n",
       "      <td>Medium</td>\n",
       "      <td>high</td>\n",
       "      <td>242</td>\n",
       "      <td>not_too_light-Medium</td>\n",
       "    </tr>\n",
       "    <tr>\n",
       "      <th>8</th>\n",
       "      <td>not_too_light</td>\n",
       "      <td>Tall</td>\n",
       "      <td>mid</td>\n",
       "      <td>1</td>\n",
       "      <td>not_too_light-Tall</td>\n",
       "    </tr>\n",
       "    <tr>\n",
       "      <th>9</th>\n",
       "      <td>not_too_light</td>\n",
       "      <td>Tall</td>\n",
       "      <td>high</td>\n",
       "      <td>3</td>\n",
       "      <td>not_too_light-Tall</td>\n",
       "    </tr>\n",
       "    <tr>\n",
       "      <th>10</th>\n",
       "      <td>medium</td>\n",
       "      <td>Short</td>\n",
       "      <td>high</td>\n",
       "      <td>20</td>\n",
       "      <td>medium-Short</td>\n",
       "    </tr>\n",
       "    <tr>\n",
       "      <th>11</th>\n",
       "      <td>medium</td>\n",
       "      <td>Medium</td>\n",
       "      <td>low</td>\n",
       "      <td>2</td>\n",
       "      <td>medium-Medium</td>\n",
       "    </tr>\n",
       "    <tr>\n",
       "      <th>12</th>\n",
       "      <td>medium</td>\n",
       "      <td>Medium</td>\n",
       "      <td>mid</td>\n",
       "      <td>45</td>\n",
       "      <td>medium-Medium</td>\n",
       "    </tr>\n",
       "    <tr>\n",
       "      <th>13</th>\n",
       "      <td>medium</td>\n",
       "      <td>Medium</td>\n",
       "      <td>high</td>\n",
       "      <td>269</td>\n",
       "      <td>medium-Medium</td>\n",
       "    </tr>\n",
       "    <tr>\n",
       "      <th>14</th>\n",
       "      <td>medium</td>\n",
       "      <td>Tall</td>\n",
       "      <td>mid</td>\n",
       "      <td>8</td>\n",
       "      <td>medium-Tall</td>\n",
       "    </tr>\n",
       "    <tr>\n",
       "      <th>15</th>\n",
       "      <td>medium</td>\n",
       "      <td>Tall</td>\n",
       "      <td>high</td>\n",
       "      <td>5</td>\n",
       "      <td>medium-Tall</td>\n",
       "    </tr>\n",
       "    <tr>\n",
       "      <th>16</th>\n",
       "      <td>not_too_heavy</td>\n",
       "      <td>Medium</td>\n",
       "      <td>mid</td>\n",
       "      <td>9</td>\n",
       "      <td>not_too_heavy-Medium</td>\n",
       "    </tr>\n",
       "    <tr>\n",
       "      <th>17</th>\n",
       "      <td>not_too_heavy</td>\n",
       "      <td>Medium</td>\n",
       "      <td>high</td>\n",
       "      <td>49</td>\n",
       "      <td>not_too_heavy-Medium</td>\n",
       "    </tr>\n",
       "    <tr>\n",
       "      <th>18</th>\n",
       "      <td>not_too_heavy</td>\n",
       "      <td>Tall</td>\n",
       "      <td>mid</td>\n",
       "      <td>10</td>\n",
       "      <td>not_too_heavy-Tall</td>\n",
       "    </tr>\n",
       "    <tr>\n",
       "      <th>19</th>\n",
       "      <td>not_too_heavy</td>\n",
       "      <td>Tall</td>\n",
       "      <td>high</td>\n",
       "      <td>13</td>\n",
       "      <td>not_too_heavy-Tall</td>\n",
       "    </tr>\n",
       "    <tr>\n",
       "      <th>20</th>\n",
       "      <td>heavy</td>\n",
       "      <td>Medium</td>\n",
       "      <td>high</td>\n",
       "      <td>2</td>\n",
       "      <td>heavy-Medium</td>\n",
       "    </tr>\n",
       "    <tr>\n",
       "      <th>21</th>\n",
       "      <td>heavy</td>\n",
       "      <td>Tall</td>\n",
       "      <td>mid</td>\n",
       "      <td>1</td>\n",
       "      <td>heavy-Tall</td>\n",
       "    </tr>\n",
       "    <tr>\n",
       "      <th>22</th>\n",
       "      <td>heavy</td>\n",
       "      <td>Tall</td>\n",
       "      <td>high</td>\n",
       "      <td>2</td>\n",
       "      <td>heavy-Tall</td>\n",
       "    </tr>\n",
       "  </tbody>\n",
       "</table>\n",
       "</div>"
      ],
      "text/plain": [
       "          weight1 height1   avg  count                 Label\n",
       "0           light   Short   mid      2           light-Short\n",
       "1           light   Short  high     45           light-Short\n",
       "2           light  Medium   mid      4          light-Medium\n",
       "3           light  Medium  high     26          light-Medium\n",
       "4   not_too_light   Short   mid     10   not_too_light-Short\n",
       "5   not_too_light   Short  high     83   not_too_light-Short\n",
       "6   not_too_light  Medium   mid     40  not_too_light-Medium\n",
       "7   not_too_light  Medium  high    242  not_too_light-Medium\n",
       "8   not_too_light    Tall   mid      1    not_too_light-Tall\n",
       "9   not_too_light    Tall  high      3    not_too_light-Tall\n",
       "10         medium   Short  high     20          medium-Short\n",
       "11         medium  Medium   low      2         medium-Medium\n",
       "12         medium  Medium   mid     45         medium-Medium\n",
       "13         medium  Medium  high    269         medium-Medium\n",
       "14         medium    Tall   mid      8           medium-Tall\n",
       "15         medium    Tall  high      5           medium-Tall\n",
       "16  not_too_heavy  Medium   mid      9  not_too_heavy-Medium\n",
       "17  not_too_heavy  Medium  high     49  not_too_heavy-Medium\n",
       "18  not_too_heavy    Tall   mid     10    not_too_heavy-Tall\n",
       "19  not_too_heavy    Tall  high     13    not_too_heavy-Tall\n",
       "20          heavy  Medium  high      2          heavy-Medium\n",
       "21          heavy    Tall   mid      1            heavy-Tall\n",
       "22          heavy    Tall  high      2            heavy-Tall"
      ]
     },
     "execution_count": 20,
     "metadata": {},
     "output_type": "execute_result"
    }
   ],
   "source": [
    "data"
   ]
  },
  {
   "cell_type": "code",
   "execution_count": 23,
   "metadata": {
    "collapsed": false
   },
   "outputs": [
    {
     "data": {
      "text/plain": [
       "{'heavy-Medium',\n",
       " 'heavy-Tall',\n",
       " 'light-Medium',\n",
       " 'light-Short',\n",
       " 'medium-Medium',\n",
       " 'medium-Short',\n",
       " 'medium-Tall',\n",
       " 'not_too_heavy-Medium',\n",
       " 'not_too_heavy-Tall',\n",
       " 'not_too_light-Medium',\n",
       " 'not_too_light-Short',\n",
       " 'not_too_light-Tall'}"
      ]
     },
     "execution_count": 23,
     "metadata": {},
     "output_type": "execute_result"
    }
   ],
   "source": [
    "set(data.Label)"
   ]
  },
  {
   "cell_type": "code",
   "execution_count": 24,
   "metadata": {
    "collapsed": false
   },
   "outputs": [
    {
     "data": {
      "text/plain": [
       "['heavy-Medium',\n",
       " 'heavy-Tall',\n",
       " 'light-Medium',\n",
       " 'light-Short',\n",
       " 'medium-Medium',\n",
       " 'medium-Short',\n",
       " 'medium-Tall',\n",
       " 'not_too_heavy-Medium',\n",
       " 'not_too_heavy-Tall',\n",
       " 'not_too_light-Medium',\n",
       " 'not_too_light-Short',\n",
       " 'not_too_light-Tall']"
      ]
     },
     "execution_count": 24,
     "metadata": {},
     "output_type": "execute_result"
    }
   ],
   "source": [
    "sorted(list(set(data.Label)))"
   ]
  },
  {
   "cell_type": "code",
   "execution_count": 27,
   "metadata": {
    "collapsed": true
   },
   "outputs": [],
   "source": [
    "l =['heavy-Medium',\n",
    " 'heavy-Tall',\n",
    "'not_too_heavy-Medium',\n",
    "'not_too_heavy-Tall',\n",
    " 'medium-Short',\n",
    " 'medium-Medium',\n",
    " 'medium-Tall',\n",
    " 'not_too_light-Short',\n",
    " 'not_too_light-Medium',\n",
    " 'not_too_light-Tall',\n",
    "  'light-Short',\n",
    " 'light-Medium'\n",
    "]"
   ]
  },
  {
   "cell_type": "code",
   "execution_count": 28,
   "metadata": {
    "collapsed": false
   },
   "outputs": [
    {
     "data": {
      "text/plain": [
       "['heavy-Medium',\n",
       " 'heavy-Tall',\n",
       " 'not_too_heavy-Medium',\n",
       " 'not_too_heavy-Tall',\n",
       " 'medium-Short',\n",
       " 'medium-Medium',\n",
       " 'medium-Tall',\n",
       " 'not_too_light-Short',\n",
       " 'not_too_light-Medium',\n",
       " 'not_too_light-Tall',\n",
       " 'light-Short',\n",
       " 'light-Medium']"
      ]
     },
     "execution_count": 28,
     "metadata": {},
     "output_type": "execute_result"
    }
   ],
   "source": [
    "l"
   ]
  },
  {
   "cell_type": "code",
   "execution_count": null,
   "metadata": {
    "collapsed": true
   },
   "outputs": [],
   "source": []
  }
 ],
 "metadata": {
  "anaconda-cloud": {},
  "kernelspec": {
   "display_name": "Python [Root]",
   "language": "python",
   "name": "Python [Root]"
  },
  "language_info": {
   "codemirror_mode": {
    "name": "ipython",
    "version": 3
   },
   "file_extension": ".py",
   "mimetype": "text/x-python",
   "name": "python",
   "nbconvert_exporter": "python",
   "pygments_lexer": "ipython3",
   "version": "3.5.2"
  }
 },
 "nbformat": 4,
 "nbformat_minor": 0
}
